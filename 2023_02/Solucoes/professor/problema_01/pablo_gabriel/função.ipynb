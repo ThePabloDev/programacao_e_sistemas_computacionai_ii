{
 "cells": [
  {
   "cell_type": "code",
   "execution_count": 13,
   "metadata": {},
   "outputs": [
    {
     "name": "stdout",
     "output_type": "stream",
     "text": [
      "Qual operação voce deseja realizar?\n",
      "1 - Subtração\n",
      "2 - Adição\n",
      "3 - Multiplicação\n",
      "4 - Divisão\n",
      "-1\n"
     ]
    }
   ],
   "source": [
    "def subtracao(numero_1, numero_2):\n",
    "    return numero_1 - numero_2\n",
    "def adicao(numero_1, numero_2):\n",
    "    return numero_1 + numero_2\n",
    "def multiplicacao(numero_1, numero_2):\n",
    "    return numero_1 * numero_2\n",
    "def divisao(numero_1, numero_2):\n",
    "    return numero_1 / numero_2\n",
    "\n",
    "print('Qual operação voce deseja realizar?')\n",
    "print('1 - Subtração')\n",
    "print('2 - Adição')\n",
    "print('3 - Multiplicação')\n",
    "print('4 - Divisão')\n",
    "operacao = int(input(operacao))\n",
    "numero_1 = int(input('Insira o 1 numero'))\n",
    "numero_2 = int(input('Insira o 2 numero'))\n",
    "\n",
    "if operacao == 1:\n",
    "   print(subtracao(numero_1, numero_2))\n",
    "elif operacao == 2:\n",
    "   print(adicao(numero_1, numero_2))\n",
    "elif operacao == 3:\n",
    "   print(multiplicacao(numero_1, numero_2))\n",
    "elif operacao == 4:\n",
    "   print(divisao(numero_1, numero_2))\n"
   ]
  },
  {
   "cell_type": "code",
   "execution_count": null,
   "metadata": {},
   "outputs": [],
   "source": []
  }
 ],
 "metadata": {
  "kernelspec": {
   "display_name": "Python 3",
   "language": "python",
   "name": "python3"
  },
  "language_info": {
   "codemirror_mode": {
    "name": "ipython",
    "version": 3
   },
   "file_extension": ".py",
   "mimetype": "text/x-python",
   "name": "python",
   "nbconvert_exporter": "python",
   "pygments_lexer": "ipython3",
   "version": "3.11.2"
  },
  "orig_nbformat": 4
 },
 "nbformat": 4,
 "nbformat_minor": 2
}
