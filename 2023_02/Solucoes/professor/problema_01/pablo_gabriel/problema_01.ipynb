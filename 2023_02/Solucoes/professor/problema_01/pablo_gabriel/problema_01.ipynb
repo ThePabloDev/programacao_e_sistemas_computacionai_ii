{
 "cells": [
  {
   "cell_type": "markdown",
   "metadata": {},
   "source": [
    "Hello World\n",
    "O seu primeiro programa em qualquer linguagem de programação normalmente é o \"Hello World!\". Neste primeiro problema tudo o que você precisa fazer é imprimir esta mensagem na tela.\n",
    "\n",
    "Entrada\n",
    "Este problema não possui nenhuma entrada.\n",
    "\n",
    "Saída\n",
    "Você deve imprimir a mensagem \"Hello World!\" e em seguida o final de linha, conforme o exemplo abaixo.\n"
   ]
  },
  {
   "cell_type": "code",
   "execution_count": 3,
   "metadata": {},
   "outputs": [
    {
     "name": "stdout",
     "output_type": "stream",
     "text": [
      "HelloWorld \n",
      "\n"
     ]
    }
   ],
   "source": [
    "print(\"HelloWorld \\n\")"
   ]
  },
  {
   "cell_type": "markdown",
   "metadata": {},
   "source": [
    "Extremamente Básico\n",
    "\n",
    "Leia 2 valores inteiros e armazene-os nas variáveis A e B. Efetue a soma de A e B atribuindo o seu resultado na variável X. Imprima X conforme exemplo apresentado abaixo. Não apresente mensagem alguma além daquilo que está sendo especificado e não esqueça de imprimir o fim de linha após o resultado, caso contrário, você receberá \"Presentation Error\".\n",
    "\n",
    "Entrada\n",
    "A entrada contém 2 valores inteiros.\n",
    "\n",
    "Saída\n",
    "Imprima a mensagem \"X = \" (letra X maiúscula) seguido pelo valor da variável X e pelo final de linha. Cuide para que tenha um espaço antes e depois do sinal de igualdade, conforme o exemplo abaixo.\n"
   ]
  },
  {
   "cell_type": "code",
   "execution_count": 13,
   "metadata": {},
   "outputs": [
    {
     "name": "stdout",
     "output_type": "stream",
     "text": [
      "X = 11\n"
     ]
    }
   ],
   "source": [
    "A = int(input('Insira um numero inteiro'))\n",
    "B = int(input('Insira outro numero inteiro'))\n",
    "X = int\n",
    "X = A+B\n",
    "print('X =', (X))\n"
   ]
  },
  {
   "cell_type": "markdown",
   "metadata": {},
   "source": [
    "Área do Círculo\n",
    "A fórmula para calcular a área de uma circunferência é: area = π . raio2. Considerando para este problema que π = 3.14159:\n",
    "\n",
    "Efetue o cálculo da área, elevando o valor de raio ao quadrado e multiplicando por π.\n",
    "Entrada\n",
    "A entrada contém um valor de ponto flutuante (dupla precisão), no caso, a variável raio.\n",
    "\n",
    "Saída\n",
    "Apresentar a mensagem \"A=\" seguido pelo valor da variável area, conforme exemplo abaixo, com 4 casas após o ponto decimal. Utilize variáveis de dupla precisão (double). Como todos os problemas, não esqueça de imprimir o fim de linha após o resultado, caso contrário, você receberá \"Presentation Error\"."
   ]
  },
  {
   "cell_type": "code",
   "execution_count": 16,
   "metadata": {},
   "outputs": [
    {
     "name": "stdout",
     "output_type": "stream",
     "text": [
      "A = 113.09724\n"
     ]
    }
   ],
   "source": [
    "raio = float(input('Insira o valor do raio, para o calculo da area'))\n",
    "area = raio*raio*3.14159\n",
    "print('A =', (area))"
   ]
  },
  {
   "cell_type": "markdown",
   "metadata": {},
   "source": [
    "Soma Simples\n",
    "Leia dois valores inteiros, no caso para variáveis A e B. A seguir, calcule a soma entre elas e atribua à variável SOMA. A seguir escrever o valor desta variável.\n",
    "\n",
    "Entrada\n",
    "O arquivo de entrada contém 2 valores inteiros.\n",
    "\n",
    "Saída\n",
    "Imprima a mensagem \"SOMA\" com todas as letras maiúsculas, com um espaço em branco antes e depois da igualdade seguido pelo valor correspondente à soma de A e B. Como todos os problemas, não esqueça de imprimir o fim de linha após o resultado, caso contrário, você receberá \"Presentation Error\"."
   ]
  },
  {
   "cell_type": "code",
   "execution_count": 19,
   "metadata": {},
   "outputs": [
    {
     "name": "stdout",
     "output_type": "stream",
     "text": [
      "SOMA =  7\n"
     ]
    }
   ],
   "source": [
    "A = int(input('Insira um numero inteiro'))\n",
    "B = int(input('Insira outro numero inteiro'))\n",
    "soma = int\n",
    "soma = A+B\n",
    "print('SOMA = ',(soma))\n"
   ]
  },
  {
   "cell_type": "markdown",
   "metadata": {},
   "source": [
    "Produto Simples\n",
    "Leia dois valores inteiros. A seguir, calcule o produto entre estes dois valores e atribua esta operação à variável PROD. A seguir mostre a variável PROD com mensagem correspondente.\n",
    "\n",
    "Entrada\n",
    "O arquivo de entrada contém 2 valores inteiros.\n",
    "\n",
    "Saída\n",
    "Imprima a mensagem \"PROD\" e a variável PROD conforme exemplo abaixo, com um espaço em branco antes e depois da igualdade. Não esqueça de imprimir o fim de linha após o produto, caso contrário seu programa apresentará a mensagem: “Presentation Error”."
   ]
  },
  {
   "cell_type": "code",
   "execution_count": 20,
   "metadata": {},
   "outputs": [
    {
     "name": "stdout",
     "output_type": "stream",
     "text": [
      "PROD =  6\n"
     ]
    }
   ],
   "source": [
    "A = int(input('Insira um valor inteiro'))\n",
    "B = int(input('Insira outro valor inteiro'))\n",
    "PROD = int\n",
    "PROD = A*B\n",
    "print('PROD = ', (PROD))\n"
   ]
  },
  {
   "cell_type": "markdown",
   "metadata": {},
   "source": [
    "Média 01\n",
    "Leia 2 valores de ponto flutuante de dupla precisão A e B, que correspondem a 2 notas de um aluno. A seguir, calcule a média do aluno, sabendo que a nota A tem peso 3.5 e a nota B tem peso 7.5 (A soma dos pesos portanto é 11). Assuma que cada nota pode ir de 0 até 10.0, sempre com uma casa decimal.\n",
    "\n",
    "Entrada\n",
    "O arquivo de entrada contém 2 valores com uma casa decimal cada um.\n",
    "\n",
    "Saída\n",
    "Imprima a mensagem \"MEDIA\" e a média do aluno conforme exemplo abaixo, com 5 dígitos após o ponto decimal e com um espaço em branco antes e depois da igualdade. Utilize variáveis de dupla precisão (double) e como todos os problemas, não esqueça de imprimir o fim de linha após o resultado, caso contrário, você receberá \"Presentation Error\"."
   ]
  },
  {
   "cell_type": "code",
   "execution_count": 10,
   "metadata": {},
   "outputs": [
    {
     "name": "stdout",
     "output_type": "stream",
     "text": [
      "insira um valor inteiro menor que 10!\n",
      "Nota A =  2.0\n",
      "Nota B =  2.0\n",
      "MEDIA =  11.0\n"
     ]
    }
   ],
   "source": [
    "A = 11\n",
    "B = 11\n",
    "\n",
    "while A > 10 or B > 10:\n",
    "    print(\"insira um valor inteiro menor que 10!\")\n",
    "    A = float(input(\"insira um valor inteiro\"))\n",
    "    B = float(input(\"insira outro valor inteiro\"))\n",
    "\n",
    "print(\"Nota A = \", A)\n",
    "print(\"Nota B = \", B)\n",
    "\n",
    "round(A, 1)\n",
    "round(B, 1)\n",
    "\n",
    "A = A * 3.5\n",
    "B = B * 7.5\n",
    "\n",
    "MEDIA = (A + B) / 2\n",
    "\n",
    "round(MEDIA, 5)\n",
    "\n",
    "print(\"MEDIA = \", MEDIA)"
   ]
  },
  {
   "cell_type": "markdown",
   "metadata": {},
   "source": [
    "Média 02\n",
    "Leia 3 valores, no caso, variáveis A, B e C, que são as três notas de um aluno. A seguir, calcule a média do aluno, sabendo que a nota A tem peso 2, a nota B tem peso 3 e a nota C tem peso 5. Considere que cada nota pode ir de 0 até 10.0, sempre com uma casa decimal.\n",
    "\n",
    "Entrada\n",
    "O arquivo de entrada contém 3 valores com uma casa decimal, de dupla precisão (double).\n",
    "\n",
    "Saída\n",
    "Imprima a mensagem \"MEDIA\" e a média do aluno conforme exemplo abaixo, com 1 dígito após o ponto decimal e com um espaço em branco antes e depois da igualdade. Assim como todos os problemas, não esqueça de imprimir o fim de linha após o resultado, caso contrário, você receberá \"Presentation Error\"."
   ]
  },
  {
   "cell_type": "code",
   "execution_count": 13,
   "metadata": {},
   "outputs": [
    {
     "name": "stdout",
     "output_type": "stream",
     "text": [
      "insira um valor inteiro menor que 10!\n",
      "Nota A =  2.0\n",
      "Nota B =  2.0\n",
      "Nota C =  2.0\n",
      "MEDIA =  10.0\n"
     ]
    }
   ],
   "source": [
    "A = 11\n",
    "B = 11\n",
    "C = 11\n",
    "\n",
    "while A > 10 or B > 10 or C > 10:\n",
    "    print(\"insira um valor inteiro menor que 10!\")\n",
    "    A = float(input(\"insira a 1° nota\"))\n",
    "    B = float(input(\"insira a 2° nota\"))\n",
    "    C = float(input(\"insira a 3° nota\"))\n",
    "\n",
    "print(\"Nota A = \", A)\n",
    "print(\"Nota B = \", B)\n",
    "print(\"Nota C = \", C)\n",
    "\n",
    "round(A, 1)\n",
    "round(B, 1)\n",
    "round(C, 1)\n",
    "\n",
    "A = A * 2\n",
    "B = B * 3\n",
    "C = C * 5\n",
    "\n",
    "MEDIA = (A + B + C) / 2\n",
    "\n",
    "round(MEDIA, 5)\n",
    "\n",
    "print(\"MEDIA = \", MEDIA)"
   ]
  },
  {
   "cell_type": "markdown",
   "metadata": {},
   "source": [
    "Diferença\n",
    "Leia quatro valores inteiros A, B, C e D. A seguir, calcule e mostre a diferença do produto de A e B pelo produto de C e D segundo a fórmula: DIFERENCA = (A * B - C * D).\n",
    "\n",
    "Entrada\n",
    "O arquivo de entrada contém 4 valores inteiros.\n",
    "\n",
    "Saída\n",
    "Imprima a mensagem DIFERENCA com todas as letras maiúsculas, conforme exemplo abaixo, com um espaço em branco antes e depois da igualdade."
   ]
  },
  {
   "cell_type": "code",
   "execution_count": 14,
   "metadata": {},
   "outputs": [
    {
     "name": "stdout",
     "output_type": "stream",
     "text": [
      "DIFERENCA =  0.0\n"
     ]
    }
   ],
   "source": [
    "    A = float(input(\"insira o 1° valor inteiro\"))\n",
    "    B = float(input(\"insira o 2° valor inteiro\"))\n",
    "    C = float(input(\"insira o 3° valor inteiro\"))\n",
    "    D = float(input(\"Insira o 4° valor inteiro\"))\n",
    "\n",
    "    DIFERENCA = (A * B - C * D)\n",
    "\n",
    "    print('DIFERENCA = ', (DIFERENCA))\n"
   ]
  },
  {
   "cell_type": "markdown",
   "metadata": {},
   "source": [
    "Salário\n",
    "Escreva um programa que leia o número de um funcionário, seu número de horas trabalhadas, o valor que recebe por hora e calcula o salário desse funcionário. A seguir, mostre o número e o salário do funcionário, com duas casas decimais.\n",
    "\n",
    "Entrada\n",
    "O arquivo de entrada contém 2 números inteiros e 1 número com duas casas decimais, representando o número, quantidade de horas trabalhadas e o valor que o funcionário recebe por hora trabalhada, respectivamente.\n",
    "\n",
    "Saída\n",
    "Imprima o número e o salário do funcionário, conforme exemplo fornecido, com um espaço em branco antes e depois da igualdade. No caso do salário, também deve haver um espaço em branco após o $."
   ]
  },
  {
   "cell_type": "code",
   "execution_count": 6,
   "metadata": {},
   "outputs": [
    {
     "name": "stdout",
     "output_type": "stream",
     "text": [
      "NUMERO FUNCIONARIO =  2\n",
      "SALARIO = R$ 4.0\n"
     ]
    }
   ],
   "source": [
    "numero_funcionario = int(input(\"Qual seu numero de funcionario?\"))\n",
    "horas_trabalhadas = int(input(\"Quantas horas trabalhadas voce obteve?\"))\n",
    "valor_hora = float(input(\"Quanto voce recebe por hora?\"))\n",
    "\n",
    "round(valor_hora, 2)\n",
    "round(numero_funcionario, 1)\n",
    "round(horas_trabalhadas, 1)\n",
    "\n",
    "salario = horas_trabalhadas*valor_hora\n",
    "print('NUMERO FUNCIONARIO = ', (numero_funcionario))\n",
    "print('SALARIO = R$',(salario))\n",
    "\n",
    "\n",
    "\n"
   ]
  },
  {
   "cell_type": "markdown",
   "metadata": {},
   "source": [
    "Salário com Bonus\n",
    "Faça um programa que leia o nome de um vendedor, o seu salário fixo e o total de vendas efetuadas por ele no mês (em dinheiro). Sabendo que este vendedor ganha 15% de comissão sobre suas vendas efetuadas, informar o total a receber no final do mês, com duas casas decimais.\n",
    "\n",
    "Entrada\n",
    "O arquivo de entrada contém um texto (primeiro nome do vendedor) e 2 valores de dupla precisão (double) com duas casas decimais, representando o salário fixo do vendedor e montante total das vendas efetuadas por este vendedor, respectivamente.\n",
    "\n",
    "Saída\n",
    "Imprima o total que o funcionário deverá receber, conforme exemplo fornecido."
   ]
  },
  {
   "cell_type": "code",
   "execution_count": 8,
   "metadata": {},
   "outputs": [
    {
     "name": "stdout",
     "output_type": "stream",
     "text": [
      "Nome vendedor:  Pablo\n",
      "Salario total:  1150.0\n"
     ]
    }
   ],
   "source": [
    "nome_vendedor = str(input(\"Qual seu nome?\"))\n",
    "salario_fixo = float(input(\"Qual seu salario fixo?\"))\n",
    "vendas_efetuadas = float(input(\"Qual valor em reais voce vendeu no mes?\"))\n",
    "\n",
    "bonus = vendas_efetuadas*0.15\n",
    "salario_total = salario_fixo+bonus\n",
    "\n",
    "round(salario_total, 2)\n",
    "\n",
    "print(\"Nome vendedor: \", (nome_vendedor))\n",
    "print(\"Salario total: \", (salario_total))"
   ]
  },
  {
   "cell_type": "code",
   "execution_count": null,
   "metadata": {},
   "outputs": [],
   "source": []
  }
 ],
 "metadata": {
  "kernelspec": {
   "display_name": "Python 3",
   "language": "python",
   "name": "python3"
  },
  "language_info": {
   "codemirror_mode": {
    "name": "ipython",
    "version": 3
   },
   "file_extension": ".py",
   "mimetype": "text/x-python",
   "name": "python",
   "nbconvert_exporter": "python",
   "pygments_lexer": "ipython3",
   "version": "3.11.2"
  },
  "orig_nbformat": 4
 },
 "nbformat": 4,
 "nbformat_minor": 2
}
