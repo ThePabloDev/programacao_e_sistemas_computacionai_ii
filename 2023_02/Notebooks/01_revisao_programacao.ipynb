{
 "cells": [
  {
   "cell_type": "markdown",
   "metadata": {},
   "source": [
    "### Tarefa\n",
    "\n",
    "Dado um inteiro, ***n,*** performe as seguintes ações condicionais:\n",
    "\n",
    "- Se n é ímpar, imprima “Ímpar”\n",
    "- Se n é par e está no intervalo entre 2 e 5 (inclusive), imprima “Não Estranho”\n",
    "- Se n é par e está no intervalo entre 6 e 20 (inclusive), imprima “Estranho”\n",
    "- Se n é par e maior que 20, imprima “Não estranho”\n",
    "\n",
    "### Input\n",
    "\n",
    "Uma simples linha contendo um número inteiro\n",
    "\n",
    "### Limitações\n",
    "\n",
    "$$\n",
    "1 \\le n \\le 100\n",
    "$$"
   ]
  },
  {
   "cell_type": "code",
   "execution_count": 13,
   "metadata": {},
   "outputs": [
    {
     "name": "stdout",
     "output_type": "stream",
     "text": [
      "Insira um numero inteiro:\n",
      "2\n"
     ]
    }
   ],
   "source": [
    "print('Insira um numero inteiro:') \n",
    "numero = int(input()) #uso a função int para aceitar somente numeros\n",
    "print(numero) "
   ]
  },
  {
   "cell_type": "code",
   "execution_count": 17,
   "metadata": {},
   "outputs": [
    {
     "name": "stdout",
     "output_type": "stream",
     "text": [
      "Insira um numero inteiro:\n",
      "2.0\n"
     ]
    }
   ],
   "source": [
    "print('Insira um numero inteiro:') \n",
    "number = float(input()) #uso a função int para aceitar um numero\n",
    "print(number) "
   ]
  },
  {
   "cell_type": "code",
   "execution_count": 18,
   "metadata": {},
   "outputs": [
    {
     "name": "stdout",
     "output_type": "stream",
     "text": [
      "Insira seu nome:\n",
      "Pablo\n"
     ]
    }
   ],
   "source": [
    "print('Insira seu nome:') \n",
    "nome = str(input()) #uso a função int para aceitar nomes\n",
    "print(nome) "
   ]
  },
  {
   "cell_type": "code",
   "execution_count": 33,
   "metadata": {},
   "outputs": [
    {
     "name": "stdout",
     "output_type": "stream",
     "text": [
      "Insira um numero inteiro:\n",
      "1\n",
      "Impar\n"
     ]
    }
   ],
   "source": [
    "print('Insira um numero inteiro:') #imprimo uma msg pedindo informação ao user\n",
    "numero = int(input()) #uso a função int para aceitar somente numeros\n",
    "print(numero) #coleto o numero do usuario\n",
    "if numero % 2 == 0: # faz a divisao e coleta o resultado\n",
    "    print('Par') # imprime par se a sobra da divisao for 0\n",
    "else:\n",
    "    print('Impar') #imprime impar se a sobra da divisao for 1\n"
   ]
  },
  {
   "cell_type": "code",
   "execution_count": 1,
   "metadata": {},
   "outputs": [
    {
     "name": "stdout",
     "output_type": "stream",
     "text": [
      "Insira um numero inteiro:\n",
      "0\n"
     ]
    }
   ],
   "source": [
    "print('Insira um numero inteiro:')\n",
    "numero = int(input())\n",
    "print(numero)\n",
    "if numero % 2 == 0 and numero >= 2 and numero <=5:\n",
    "    print('Não Estranho')\n",
    "if numero % 2 == 0 and numero >= 6 and numero <=20:\n",
    "    print('Estranho')\n",
    "if numero % 2 == 0 and numero >20:\n",
    "    print('Não Estranho')\n"
   ]
  },
  {
   "cell_type": "code",
   "execution_count": 8,
   "metadata": {},
   "outputs": [
    {
     "name": "stdout",
     "output_type": "stream",
     "text": [
      "numero invalido\n",
      "numero valido\n",
      "1\n"
     ]
    }
   ],
   "source": [
    "numero = 0\n",
    "# condicao invalida numero < 1 or numero > 100\n",
    "\n",
    "while numero < 1 or numero > 100:\n",
    "  print(\"numero invalido\")\n",
    "  numero = int(input(\"Digite um numero inteiro: \"))\n",
    "\n",
    "print(\"numero valido\")\n",
    "\n",
    "print(numero)\n",
    "if numero % 2 == 0 and numero >= 2 and numero <=5:\n",
    "    print('Não Estranho')\n",
    "if numero % 2 == 0 and numero >= 6 and numero <=20:\n",
    "    print('Estranho')\n",
    "if numero % 2 == 0 and numero >20:\n",
    "    print('Não Estranho')\n"
   ]
  },
  {
   "cell_type": "code",
   "execution_count": null,
   "metadata": {},
   "outputs": [],
   "source": []
  }
 ],
 "metadata": {
  "kernelspec": {
   "display_name": "Python 3",
   "language": "python",
   "name": "python3"
  },
  "language_info": {
   "codemirror_mode": {
    "name": "ipython",
    "version": 3
   },
   "file_extension": ".py",
   "mimetype": "text/x-python",
   "name": "python",
   "nbconvert_exporter": "python",
   "pygments_lexer": "ipython3",
   "version": "3.11.2"
  },
  "orig_nbformat": 4
 },
 "nbformat": 4,
 "nbformat_minor": 2
}
